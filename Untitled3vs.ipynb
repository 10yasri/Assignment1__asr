{
 "cells": [
  {
   "cell_type": "code",
   "execution_count": 23,
   "id": "1ebb7104",
   "metadata": {},
   "outputs": [],
   "source": [
    "import os"
   ]
  },
  {
   "cell_type": "code",
   "execution_count": 24,
   "id": "c3411ab9",
   "metadata": {},
   "outputs": [],
   "source": [
    "import librosa"
   ]
  },
  {
   "cell_type": "code",
   "execution_count": 25,
   "id": "27ae5cf8",
   "metadata": {},
   "outputs": [],
   "source": [
    "import torch"
   ]
  },
  {
   "cell_type": "code",
   "execution_count": 26,
   "id": "4040205c",
   "metadata": {},
   "outputs": [],
   "source": [
    "import torchaudio\n"
   ]
  },
  {
   "cell_type": "code",
   "execution_count": 27,
   "id": "671b9dcd",
   "metadata": {},
   "outputs": [],
   "source": [
    "from transformers import Wav2Vec2ForCTC, Wav2Vec2Processor"
   ]
  },
  {
   "cell_type": "code",
   "execution_count": 28,
   "id": "9057e41c",
   "metadata": {},
   "outputs": [],
   "source": [
    "from jiwer import cer"
   ]
  },
  {
   "cell_type": "code",
   "execution_count": 29,
   "id": "36ffa6a3",
   "metadata": {},
   "outputs": [],
   "source": [
    "# Function to load LibriSpeech data from local directory\n",
    "def load_librispeech_data(main_directory):\n",
    "    data = {}\n",
    "    for folder_name in [\"dev_clean\" , \"test-clean\" , \"test-other\"]:\n",
    "        folder_path = os.path.join(main_directory, folder_name)\n",
    "        audio_files = []\n",
    "        transcriptions = []\n",
    "\n",
    "        # Iterate through each file in the folder\n",
    "        for file_name in os.listdir(folder_path):\n",
    "            if file_name.endswith(\".wav\"):\n",
    "                audio_path = os.path.join(folder_path, file_name)\n",
    "                transcription_path = audio_path.replace(\".wav\", \".lab\")  # Assuming transcription files are .txt\n",
    "                if os.path.exists(transcription_path):\n",
    "                    with open(transcription_path, \"r\") as f:\n",
    "                        transcription = f.read().strip()\n",
    "                    audio_files.append(audio_path)\n",
    "                    transcriptions.append(transcription)\n",
    "        if not audio_files:\n",
    "            print(f\"No audio files found in directory: {folder_name}\")\n",
    "        data[folder_name] = {\"audio_files\": audio_files, \"transcriptions\": transcriptions}\n",
    "    return data"
   ]
  },
  {
   "cell_type": "code",
   "execution_count": 30,
   "id": "f4b21778",
   "metadata": {},
   "outputs": [],
   "source": [
    "# Transcribe audio using Wav2Vec2 model\n",
    "def transcribe_audio(waveform, sample_rate):\n",
    "    inputs = processor(waveform, sampling_rate=sample_rate, return_tensors=\"pt\", padding=True)\n",
    "    with torch.no_grad():\n",
    "        logits = model(inputs.input_values).logits\n",
    "    predicted_ids = torch.argmax(logits, dim=-1)\n",
    "    transcription = processor.batch_decode(predicted_ids)\n",
    "    return transcription[0]"
   ]
  },
  {
   "cell_type": "code",
   "execution_count": 31,
   "id": "f28fb9b1",
   "metadata": {},
   "outputs": [],
   "source": [
    "# Load audio files and transcriptions from LibriSpeech dataset\n",
    "main_directory = \"C:/Users/tanya/OneDrive/Desktop/pytrch/myvenv/Librispeech\"\n",
    "librispeech_data = load_librispeech_data(main_directory)\n"
   ]
  },
  {
   "cell_type": "code",
   "execution_count": 32,
   "id": "5236147f",
   "metadata": {},
   "outputs": [
    {
     "name": "stderr",
     "output_type": "stream",
     "text": [
      "Some weights of the model checkpoint at facebook/wav2vec2-large-960h were not used when initializing Wav2Vec2ForCTC: ['wav2vec2.encoder.pos_conv_embed.conv.weight_g', 'wav2vec2.encoder.pos_conv_embed.conv.weight_v']\n",
      "- This IS expected if you are initializing Wav2Vec2ForCTC from the checkpoint of a model trained on another task or with another architecture (e.g. initializing a BertForSequenceClassification model from a BertForPreTraining model).\n",
      "- This IS NOT expected if you are initializing Wav2Vec2ForCTC from the checkpoint of a model that you expect to be exactly identical (initializing a BertForSequenceClassification model from a BertForSequenceClassification model).\n",
      "Some weights of Wav2Vec2ForCTC were not initialized from the model checkpoint at facebook/wav2vec2-large-960h and are newly initialized: ['wav2vec2.encoder.pos_conv_embed.conv.parametrizations.weight.original0', 'wav2vec2.encoder.pos_conv_embed.conv.parametrizations.weight.original1', 'wav2vec2.masked_spec_embed']\n",
      "You should probably TRAIN this model on a down-stream task to be able to use it for predictions and inference.\n"
     ]
    }
   ],
   "source": [
    "# Load pre-trained Wav2Vec2 model and processor\n",
    "model_name = \"facebook/wav2vec2-large-960h\"\n",
    "processor = Wav2Vec2Processor.from_pretrained(model_name)\n",
    "model = Wav2Vec2ForCTC.from_pretrained(model_name)"
   ]
  },
  {
   "cell_type": "code",
   "execution_count": 33,
   "id": "94826baa",
   "metadata": {},
   "outputs": [
    {
     "name": "stdout",
     "output_type": "stream",
     "text": [
      "CER for dev_clean: 0.000480581759616936\n",
      "CER for test-clean: 0.0015161220170302819\n",
      "CER for test-other: 0.0020595485028878967\n",
      "{'dev_clean': 0.000480581759616936, 'test-clean': 0.0015161220170302819, 'test-other': 0.0020595485028878967}\n"
     ]
    }
   ],
   "source": [
    "# Calculate CER for each directory\n",
    "cer_results = {}\n",
    "\n",
    "for dir_name, data in librispeech_data.items():\n",
    "    if not data[\"audio_files\"]:\n",
    "        print(f\"No audio files found in directory: {dir_name}\")\n",
    "        cer_results[dir_name] = None\n",
    "        continue\n",
    "\n",
    "    total_cer = 0\n",
    "    audio_files = data[\"audio_files\"]\n",
    "    transcriptions = data[\"transcriptions\"]\n",
    "\n",
    "    for audio_path, reference in zip(audio_files, transcriptions):\n",
    "        waveform, sample_rate = librosa.load(audio_path, sr=None)\n",
    "        transcription = transcribe_audio(waveform, sample_rate)\n",
    "        \n",
    "        total_cer += cer(reference, transcription)\n",
    "\n",
    "    average_cer = total_cer / len(audio_files) if audio_files else None\n",
    "    cer_results[dir_name] = average_cer\n",
    "    print(f\"CER for {dir_name}: {average_cer}\")\n",
    "\n",
    "print(cer_results)"
   ]
  },
  {
   "cell_type": "code",
   "execution_count": null,
   "id": "47ce940c",
   "metadata": {},
   "outputs": [],
   "source": []
  }
 ],
 "metadata": {
  "kernelspec": {
   "display_name": "Python 3",
   "language": "python",
   "name": "python3"
  },
  "language_info": {
   "codemirror_mode": {
    "name": "ipython",
    "version": 3
   },
   "file_extension": ".py",
   "mimetype": "text/x-python",
   "name": "python",
   "nbconvert_exporter": "python",
   "pygments_lexer": "ipython3",
   "version": "3.11.4"
  }
 },
 "nbformat": 4,
 "nbformat_minor": 5
}
